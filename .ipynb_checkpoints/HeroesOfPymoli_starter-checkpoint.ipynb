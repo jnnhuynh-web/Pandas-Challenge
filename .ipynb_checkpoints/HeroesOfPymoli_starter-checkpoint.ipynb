{
 "cells": [
  {
   "cell_type": "markdown",
   "metadata": {},
   "source": [
    "### Note\n",
    "* Instructions have been included for each segment. You do not have to follow them exactly, but they are included to help you think through the steps."
   ]
  },
  {
   "cell_type": "code",
   "execution_count": 170,
   "metadata": {},
   "outputs": [
    {
     "data": {
      "text/html": [
       "<div>\n",
       "<style scoped>\n",
       "    .dataframe tbody tr th:only-of-type {\n",
       "        vertical-align: middle;\n",
       "    }\n",
       "\n",
       "    .dataframe tbody tr th {\n",
       "        vertical-align: top;\n",
       "    }\n",
       "\n",
       "    .dataframe thead th {\n",
       "        text-align: right;\n",
       "    }\n",
       "</style>\n",
       "<table border=\"1\" class=\"dataframe\">\n",
       "  <thead>\n",
       "    <tr style=\"text-align: right;\">\n",
       "      <th></th>\n",
       "      <th>Purchase ID</th>\n",
       "      <th>SN</th>\n",
       "      <th>Age</th>\n",
       "      <th>Gender</th>\n",
       "      <th>Item ID</th>\n",
       "      <th>Item Name</th>\n",
       "      <th>Price</th>\n",
       "    </tr>\n",
       "  </thead>\n",
       "  <tbody>\n",
       "    <tr>\n",
       "      <th>0</th>\n",
       "      <td>0</td>\n",
       "      <td>Lisim78</td>\n",
       "      <td>20</td>\n",
       "      <td>Male</td>\n",
       "      <td>108</td>\n",
       "      <td>Extraction, Quickblade Of Trembling Hands</td>\n",
       "      <td>3.53</td>\n",
       "    </tr>\n",
       "    <tr>\n",
       "      <th>1</th>\n",
       "      <td>1</td>\n",
       "      <td>Lisovynya38</td>\n",
       "      <td>40</td>\n",
       "      <td>Male</td>\n",
       "      <td>143</td>\n",
       "      <td>Frenzied Scimitar</td>\n",
       "      <td>1.56</td>\n",
       "    </tr>\n",
       "    <tr>\n",
       "      <th>2</th>\n",
       "      <td>2</td>\n",
       "      <td>Ithergue48</td>\n",
       "      <td>24</td>\n",
       "      <td>Male</td>\n",
       "      <td>92</td>\n",
       "      <td>Final Critic</td>\n",
       "      <td>4.88</td>\n",
       "    </tr>\n",
       "    <tr>\n",
       "      <th>3</th>\n",
       "      <td>3</td>\n",
       "      <td>Chamassasya86</td>\n",
       "      <td>24</td>\n",
       "      <td>Male</td>\n",
       "      <td>100</td>\n",
       "      <td>Blindscythe</td>\n",
       "      <td>3.27</td>\n",
       "    </tr>\n",
       "    <tr>\n",
       "      <th>4</th>\n",
       "      <td>4</td>\n",
       "      <td>Iskosia90</td>\n",
       "      <td>23</td>\n",
       "      <td>Male</td>\n",
       "      <td>131</td>\n",
       "      <td>Fury</td>\n",
       "      <td>1.44</td>\n",
       "    </tr>\n",
       "  </tbody>\n",
       "</table>\n",
       "</div>"
      ],
      "text/plain": [
       "   Purchase ID             SN  Age Gender  Item ID  \\\n",
       "0            0        Lisim78   20   Male      108   \n",
       "1            1    Lisovynya38   40   Male      143   \n",
       "2            2     Ithergue48   24   Male       92   \n",
       "3            3  Chamassasya86   24   Male      100   \n",
       "4            4      Iskosia90   23   Male      131   \n",
       "\n",
       "                                   Item Name  Price  \n",
       "0  Extraction, Quickblade Of Trembling Hands   3.53  \n",
       "1                          Frenzied Scimitar   1.56  \n",
       "2                               Final Critic   4.88  \n",
       "3                                Blindscythe   3.27  \n",
       "4                                       Fury   1.44  "
      ]
     },
     "execution_count": 170,
     "metadata": {},
     "output_type": "execute_result"
    }
   ],
   "source": [
    "# Dependencies and Setup\n",
    "import pandas as pd\n",
    "\n",
    "# File to Load (Remember to Change These)\n",
    "file_to_load = \"Resources/purchase_data.csv\"\n",
    "\n",
    "# Read Purchasing File and store into Pandas data frame\n",
    "purchase_data = pd.read_csv(file_to_load)\n",
    "\n",
    "#Preview of the data\n",
    "purchase_data.head()"
   ]
  },
  {
   "cell_type": "markdown",
   "metadata": {},
   "source": [
    "## Player Count"
   ]
  },
  {
   "cell_type": "markdown",
   "metadata": {},
   "source": [
    "* Display the total number of players\n"
   ]
  },
  {
   "cell_type": "code",
   "execution_count": 172,
   "metadata": {},
   "outputs": [
    {
     "data": {
      "text/html": [
       "<div>\n",
       "<style scoped>\n",
       "    .dataframe tbody tr th:only-of-type {\n",
       "        vertical-align: middle;\n",
       "    }\n",
       "\n",
       "    .dataframe tbody tr th {\n",
       "        vertical-align: top;\n",
       "    }\n",
       "\n",
       "    .dataframe thead th {\n",
       "        text-align: right;\n",
       "    }\n",
       "</style>\n",
       "<table border=\"1\" class=\"dataframe\">\n",
       "  <thead>\n",
       "    <tr style=\"text-align: right;\">\n",
       "      <th></th>\n",
       "      <th>Total Players</th>\n",
       "    </tr>\n",
       "  </thead>\n",
       "  <tbody>\n",
       "    <tr>\n",
       "      <th>0</th>\n",
       "      <td>576</td>\n",
       "    </tr>\n",
       "  </tbody>\n",
       "</table>\n",
       "</div>"
      ],
      "text/plain": [
       "   Total Players\n",
       "0            576"
      ]
     },
     "execution_count": 172,
     "metadata": {},
     "output_type": "execute_result"
    }
   ],
   "source": [
    "#calculate the data\n",
    "players = purchase_data[\"SN\"].nunique()\n",
    "\n",
    "#create the dataframe\n",
    "players_count_pd = pd.DataFrame({\"Total Players\" : [players]})\n",
    "\n",
    "#print the dataframe\n",
    "players_count_pd"
   ]
  },
  {
   "cell_type": "markdown",
   "metadata": {},
   "source": [
    "## Purchasing Analysis (Total)"
   ]
  },
  {
   "cell_type": "markdown",
   "metadata": {},
   "source": [
    "* Run basic calculations to obtain number of unique items, average price, etc.\n",
    "\n",
    "\n",
    "* Create a summary data frame to hold the results\n",
    "\n",
    "\n",
    "* Optional: give the displayed data cleaner formatting\n",
    "\n",
    "\n",
    "* Display the summary data frame\n"
   ]
  },
  {
   "cell_type": "code",
   "execution_count": 173,
   "metadata": {
    "scrolled": true
   },
   "outputs": [
    {
     "data": {
      "text/html": [
       "<style  type=\"text/css\" >\n",
       "</style><table id=\"T_5a8249d8_f441_11e9_8040_534e57000000\" ><thead>    <tr>        <th class=\"blank level0\" ></th>        <th class=\"col_heading level0 col0\" >Number of Unique Items</th>        <th class=\"col_heading level0 col1\" >Average Price</th>        <th class=\"col_heading level0 col2\" >Number of Purchases</th>        <th class=\"col_heading level0 col3\" >Total Revenue</th>    </tr></thead><tbody>\n",
       "                <tr>\n",
       "                        <th id=\"T_5a8249d8_f441_11e9_8040_534e57000000level0_row0\" class=\"row_heading level0 row0\" >0</th>\n",
       "                        <td id=\"T_5a8249d8_f441_11e9_8040_534e57000000row0_col0\" class=\"data row0 col0\" >179</td>\n",
       "                        <td id=\"T_5a8249d8_f441_11e9_8040_534e57000000row0_col1\" class=\"data row0 col1\" >$3.05</td>\n",
       "                        <td id=\"T_5a8249d8_f441_11e9_8040_534e57000000row0_col2\" class=\"data row0 col2\" >780</td>\n",
       "                        <td id=\"T_5a8249d8_f441_11e9_8040_534e57000000row0_col3\" class=\"data row0 col3\" >$2,379.77</td>\n",
       "            </tr>\n",
       "    </tbody></table>"
      ],
      "text/plain": [
       "<pandas.io.formats.style.Styler at 0x296516ac630>"
      ]
     },
     "execution_count": 173,
     "metadata": {},
     "output_type": "execute_result"
    }
   ],
   "source": [
    "#calculate the data\n",
    "unique_items = purchase_data[\"Item Name\"].nunique()\n",
    "average_price = purchase_data[\"Price\"].mean()\n",
    "num_purch = purchase_data[\"SN\"].count()\n",
    "total_rev = purchase_data[\"Price\"].sum()\n",
    "\n",
    "#create the dateframe\n",
    "purchase_analysis_pd = pd.DataFrame({\n",
    "    \"Number of Unique Items\" : [unique_items],\n",
    "    \"Average Price\" : [average_price],\n",
    "    \"Number of Purchases\" : [num_purch],\n",
    "    \"Total Revenue\" : [total_rev]})\n",
    "\n",
    "#print the dataframe\n",
    "purchase_analysis_pd.style.format({\n",
    "    \"Average Price\":\"${:,.2f}\",\n",
    "    \"Total Revenue\":\"${:,.2f}\"})"
   ]
  },
  {
   "cell_type": "markdown",
   "metadata": {},
   "source": [
    "## Gender Demographics"
   ]
  },
  {
   "cell_type": "markdown",
   "metadata": {},
   "source": [
    "* Percentage and Count of Male Players\n",
    "\n",
    "\n",
    "* Percentage and Count of Female Players\n",
    "\n",
    "\n",
    "* Percentage and Count of Other / Non-Disclosed\n",
    "\n",
    "\n"
   ]
  },
  {
   "cell_type": "code",
   "execution_count": 175,
   "metadata": {},
   "outputs": [
    {
     "data": {
      "text/html": [
       "<style  type=\"text/css\" >\n",
       "</style><table id=\"T_b5867d58_f441_11e9_ba1a_534e57000000\" ><thead>    <tr>        <th class=\"blank level0\" ></th>        <th class=\"col_heading level0 col0\" >Total Count</th>        <th class=\"col_heading level0 col1\" >Percentage of Players</th>    </tr></thead><tbody>\n",
       "                <tr>\n",
       "                        <th id=\"T_b5867d58_f441_11e9_ba1a_534e57000000level0_row0\" class=\"row_heading level0 row0\" >Female</th>\n",
       "                        <td id=\"T_b5867d58_f441_11e9_ba1a_534e57000000row0_col0\" class=\"data row0 col0\" >81</td>\n",
       "                        <td id=\"T_b5867d58_f441_11e9_ba1a_534e57000000row0_col1\" class=\"data row0 col1\" >14.06%</td>\n",
       "            </tr>\n",
       "            <tr>\n",
       "                        <th id=\"T_b5867d58_f441_11e9_ba1a_534e57000000level0_row1\" class=\"row_heading level0 row1\" >Male</th>\n",
       "                        <td id=\"T_b5867d58_f441_11e9_ba1a_534e57000000row1_col0\" class=\"data row1 col0\" >484</td>\n",
       "                        <td id=\"T_b5867d58_f441_11e9_ba1a_534e57000000row1_col1\" class=\"data row1 col1\" >84.03%</td>\n",
       "            </tr>\n",
       "            <tr>\n",
       "                        <th id=\"T_b5867d58_f441_11e9_ba1a_534e57000000level0_row2\" class=\"row_heading level0 row2\" >Other / Non-Disclosed</th>\n",
       "                        <td id=\"T_b5867d58_f441_11e9_ba1a_534e57000000row2_col0\" class=\"data row2 col0\" >11</td>\n",
       "                        <td id=\"T_b5867d58_f441_11e9_ba1a_534e57000000row2_col1\" class=\"data row2 col1\" >1.91%</td>\n",
       "            </tr>\n",
       "    </tbody></table>"
      ],
      "text/plain": [
       "<pandas.io.formats.style.Styler at 0x29651677b38>"
      ]
     },
     "execution_count": 175,
     "metadata": {},
     "output_type": "execute_result"
    }
   ],
   "source": [
    "#group the genders\n",
    "gender = purchase_data.groupby(\"Gender\")\n",
    "\n",
    "#calculate the genders\n",
    "total_gender = gender.nunique()[\"SN\"]\n",
    "percentage_of_players = total_gender / total_players * 100\n",
    "\n",
    "#create the dataframe\n",
    "gender_pd = pd.DataFrame({\n",
    "    \"Total Count\" : total_gender,\n",
    "    \"Percentage of Players\" : percentage_of_players})\n",
    "gender_pd.index.name = None\n",
    "\n",
    "#print the dataframe\n",
    "gender_pd.style.format({\n",
    "    \"Percentage of Players\":\"{:,.2f}%\"})"
   ]
  },
  {
   "cell_type": "markdown",
   "metadata": {},
   "source": [
    "\n",
    "## Purchasing Analysis (Gender)"
   ]
  },
  {
   "cell_type": "markdown",
   "metadata": {},
   "source": [
    "* Run basic calculations to obtain purchase count, avg. purchase price, avg. purchase total per person etc. by gender\n",
    "\n",
    "\n",
    "\n",
    "\n",
    "* Create a summary data frame to hold the results\n",
    "\n",
    "\n",
    "* Optional: give the displayed data cleaner formatting\n",
    "\n",
    "\n",
    "* Display the summary data frame"
   ]
  },
  {
   "cell_type": "code",
   "execution_count": 181,
   "metadata": {},
   "outputs": [
    {
     "data": {
      "text/html": [
       "<style  type=\"text/css\" >\n",
       "</style><table id=\"T_b46b8d9a_f442_11e9_acac_534e57000000\" ><thead>    <tr>        <th class=\"blank level0\" ></th>        <th class=\"col_heading level0 col0\" >Purchase Count</th>        <th class=\"col_heading level0 col1\" >Average Purchase Price</th>        <th class=\"col_heading level0 col2\" >Total Purchase Value</th>        <th class=\"col_heading level0 col3\" >Average Total Purchase Per Person</th>    </tr></thead><tbody>\n",
       "                <tr>\n",
       "                        <th id=\"T_b46b8d9a_f442_11e9_acac_534e57000000level0_row0\" class=\"row_heading level0 row0\" >Female</th>\n",
       "                        <td id=\"T_b46b8d9a_f442_11e9_acac_534e57000000row0_col0\" class=\"data row0 col0\" >113</td>\n",
       "                        <td id=\"T_b46b8d9a_f442_11e9_acac_534e57000000row0_col1\" class=\"data row0 col1\" >$3.20</td>\n",
       "                        <td id=\"T_b46b8d9a_f442_11e9_acac_534e57000000row0_col2\" class=\"data row0 col2\" >$361.94</td>\n",
       "                        <td id=\"T_b46b8d9a_f442_11e9_acac_534e57000000row0_col3\" class=\"data row0 col3\" >$4.58</td>\n",
       "            </tr>\n",
       "            <tr>\n",
       "                        <th id=\"T_b46b8d9a_f442_11e9_acac_534e57000000level0_row1\" class=\"row_heading level0 row1\" >Male</th>\n",
       "                        <td id=\"T_b46b8d9a_f442_11e9_acac_534e57000000row1_col0\" class=\"data row1 col0\" >652</td>\n",
       "                        <td id=\"T_b46b8d9a_f442_11e9_acac_534e57000000row1_col1\" class=\"data row1 col1\" >$3.02</td>\n",
       "                        <td id=\"T_b46b8d9a_f442_11e9_acac_534e57000000row1_col2\" class=\"data row1 col2\" >$1,967.64</td>\n",
       "                        <td id=\"T_b46b8d9a_f442_11e9_acac_534e57000000row1_col3\" class=\"data row1 col3\" >$13.66</td>\n",
       "            </tr>\n",
       "            <tr>\n",
       "                        <th id=\"T_b46b8d9a_f442_11e9_acac_534e57000000level0_row2\" class=\"row_heading level0 row2\" >Other / Non-Disclosed</th>\n",
       "                        <td id=\"T_b46b8d9a_f442_11e9_acac_534e57000000row2_col0\" class=\"data row2 col0\" >15</td>\n",
       "                        <td id=\"T_b46b8d9a_f442_11e9_acac_534e57000000row2_col1\" class=\"data row2 col1\" >$3.35</td>\n",
       "                        <td id=\"T_b46b8d9a_f442_11e9_acac_534e57000000row2_col2\" class=\"data row2 col2\" >$50.19</td>\n",
       "                        <td id=\"T_b46b8d9a_f442_11e9_acac_534e57000000row2_col3\" class=\"data row2 col3\" >$4.18</td>\n",
       "            </tr>\n",
       "    </tbody></table>"
      ],
      "text/plain": [
       "<pandas.io.formats.style.Styler at 0x296516aaac8>"
      ]
     },
     "execution_count": 181,
     "metadata": {},
     "output_type": "execute_result"
    }
   ],
   "source": [
    "#calculate the data\n",
    "purchase_count = gender.count()[\"Price\"]\n",
    "purchase_count_unique = gender.nunique()[\"Price\"]\n",
    "avg_purchase_price = gender.mean()[\"Price\"]\n",
    "total_purchase_value = gender.sum()[\"Price\"]\n",
    "\n",
    "avg_total_purchase = total_purchase_value / purchase_count_unique\n",
    "\n",
    "#create the dateframe\n",
    "purchase_analytics_gender_pd = pd.DataFrame({\n",
    "    \"Purchase Count\" : purchase_count,\n",
    "    \"Average Purchase Price\" : avg_purchase_price,\n",
    "    \"Total Purchase Value\" : total_purchase_value,\n",
    "    \"Average Total Purchase Per Person\" : avg_total_purchase})\n",
    "\n",
    "purchase_analytics_gender_pd.index.name = None\n",
    "\n",
    "#print the dateframe\n",
    "purchase_analytics_gender_pd.style.format({\n",
    "    \"Average Purchase Price\":\"${:,.2f}\",\n",
    "    \"Total Purchase Value\":\"${:,.2f}\",\n",
    "    \"Average Total Purchase Per Person\":\"${:,.2f}\"})"
   ]
  },
  {
   "cell_type": "markdown",
   "metadata": {},
   "source": [
    "## Age Demographics"
   ]
  },
  {
   "cell_type": "markdown",
   "metadata": {},
   "source": [
    "* Establish bins for ages\n",
    "\n",
    "\n",
    "* Categorize the existing players using the age bins. Hint: use pd.cut()\n",
    "\n",
    "\n",
    "* Calculate the numbers and percentages by age group\n",
    "\n",
    "\n",
    "* Create a summary data frame to hold the results\n",
    "\n",
    "\n",
    "* Optional: round the percentage column to two decimal points\n",
    "\n",
    "\n",
    "* Display Age Demographics Table\n"
   ]
  },
  {
   "cell_type": "code",
   "execution_count": 205,
   "metadata": {},
   "outputs": [
    {
     "data": {
      "text/html": [
       "<style  type=\"text/css\" >\n",
       "</style><table id=\"T_eafcbdd4_f444_11e9_9ad2_534e57000000\" ><thead>    <tr>        <th class=\"blank level0\" ></th>        <th class=\"col_heading level0 col0\" >Total Count</th>        <th class=\"col_heading level0 col1\" >Percentage of Players</th>    </tr>    <tr>        <th class=\"index_name level0\" >Age Group</th>        <th class=\"blank\" ></th>        <th class=\"blank\" ></th>    </tr></thead><tbody>\n",
       "                <tr>\n",
       "                        <th id=\"T_eafcbdd4_f444_11e9_9ad2_534e57000000level0_row0\" class=\"row_heading level0 row0\" >>10</th>\n",
       "                        <td id=\"T_eafcbdd4_f444_11e9_9ad2_534e57000000row0_col0\" class=\"data row0 col0\" >17</td>\n",
       "                        <td id=\"T_eafcbdd4_f444_11e9_9ad2_534e57000000row0_col1\" class=\"data row0 col1\" >2.95%</td>\n",
       "            </tr>\n",
       "            <tr>\n",
       "                        <th id=\"T_eafcbdd4_f444_11e9_9ad2_534e57000000level0_row1\" class=\"row_heading level0 row1\" >10-14</th>\n",
       "                        <td id=\"T_eafcbdd4_f444_11e9_9ad2_534e57000000row1_col0\" class=\"data row1 col0\" >22</td>\n",
       "                        <td id=\"T_eafcbdd4_f444_11e9_9ad2_534e57000000row1_col1\" class=\"data row1 col1\" >3.82%</td>\n",
       "            </tr>\n",
       "            <tr>\n",
       "                        <th id=\"T_eafcbdd4_f444_11e9_9ad2_534e57000000level0_row2\" class=\"row_heading level0 row2\" >15-19</th>\n",
       "                        <td id=\"T_eafcbdd4_f444_11e9_9ad2_534e57000000row2_col0\" class=\"data row2 col0\" >107</td>\n",
       "                        <td id=\"T_eafcbdd4_f444_11e9_9ad2_534e57000000row2_col1\" class=\"data row2 col1\" >18.58%</td>\n",
       "            </tr>\n",
       "            <tr>\n",
       "                        <th id=\"T_eafcbdd4_f444_11e9_9ad2_534e57000000level0_row3\" class=\"row_heading level0 row3\" >20-24</th>\n",
       "                        <td id=\"T_eafcbdd4_f444_11e9_9ad2_534e57000000row3_col0\" class=\"data row3 col0\" >258</td>\n",
       "                        <td id=\"T_eafcbdd4_f444_11e9_9ad2_534e57000000row3_col1\" class=\"data row3 col1\" >44.79%</td>\n",
       "            </tr>\n",
       "            <tr>\n",
       "                        <th id=\"T_eafcbdd4_f444_11e9_9ad2_534e57000000level0_row4\" class=\"row_heading level0 row4\" >25-29</th>\n",
       "                        <td id=\"T_eafcbdd4_f444_11e9_9ad2_534e57000000row4_col0\" class=\"data row4 col0\" >77</td>\n",
       "                        <td id=\"T_eafcbdd4_f444_11e9_9ad2_534e57000000row4_col1\" class=\"data row4 col1\" >13.37%</td>\n",
       "            </tr>\n",
       "            <tr>\n",
       "                        <th id=\"T_eafcbdd4_f444_11e9_9ad2_534e57000000level0_row5\" class=\"row_heading level0 row5\" >30-34</th>\n",
       "                        <td id=\"T_eafcbdd4_f444_11e9_9ad2_534e57000000row5_col0\" class=\"data row5 col0\" >52</td>\n",
       "                        <td id=\"T_eafcbdd4_f444_11e9_9ad2_534e57000000row5_col1\" class=\"data row5 col1\" >9.03%</td>\n",
       "            </tr>\n",
       "            <tr>\n",
       "                        <th id=\"T_eafcbdd4_f444_11e9_9ad2_534e57000000level0_row6\" class=\"row_heading level0 row6\" >35-39</th>\n",
       "                        <td id=\"T_eafcbdd4_f444_11e9_9ad2_534e57000000row6_col0\" class=\"data row6 col0\" >31</td>\n",
       "                        <td id=\"T_eafcbdd4_f444_11e9_9ad2_534e57000000row6_col1\" class=\"data row6 col1\" >5.38%</td>\n",
       "            </tr>\n",
       "            <tr>\n",
       "                        <th id=\"T_eafcbdd4_f444_11e9_9ad2_534e57000000level0_row7\" class=\"row_heading level0 row7\" >40+</th>\n",
       "                        <td id=\"T_eafcbdd4_f444_11e9_9ad2_534e57000000row7_col0\" class=\"data row7 col0\" >12</td>\n",
       "                        <td id=\"T_eafcbdd4_f444_11e9_9ad2_534e57000000row7_col1\" class=\"data row7 col1\" >2.08%</td>\n",
       "            </tr>\n",
       "    </tbody></table>"
      ],
      "text/plain": [
       "<pandas.io.formats.style.Styler at 0x29651454828>"
      ]
     },
     "execution_count": 205,
     "metadata": {},
     "output_type": "execute_result"
    }
   ],
   "source": [
    "#bins and bin names\n",
    "bins_age = [0, 9.99, 14.99, 19.99, 24.99, 29.99, 34.99, 39.99, 100]\n",
    "grouped_name = [\">10\", \"10-14\", \"15-19\", \"20-24\", \"25-29\", \"30-34\", \"35-39\", \"40+\"]\n",
    "\n",
    "#cutting\n",
    "purchase_data[\"Age Group\"] = pd.cut(purchase_data[\"Age\"], bins_age, labels = grouped_name)\n",
    "\n",
    "#calculate the ages\n",
    "age_range = purchase_data.groupby([\"Age Group\"])\n",
    "count_age = age_range.nunique()[\"SN\"]\n",
    "#percent = number in bin/total x 100\n",
    "percent_age = (count_age / players) *100\n",
    "\n",
    "#create the dataframe\n",
    "age_range = pd.DataFrame({\"Total Count\":count_age, \"Percentage of Players\":percent_age})\n",
    "\n",
    "#create the dataframe\n",
    "age_range.style.format({\"Percentage of Players\":\"{:,.2f}%\"})"
   ]
  },
  {
   "cell_type": "markdown",
   "metadata": {},
   "source": [
    "## Purchasing Analysis (Age)"
   ]
  },
  {
   "cell_type": "markdown",
   "metadata": {},
   "source": [
    "* Bin the purchase_data data frame by age\n",
    "\n",
    "\n",
    "* Run basic calculations to obtain purchase count, avg. purchase price, avg. purchase total per person etc. in the table below\n",
    "\n",
    "\n",
    "* Create a summary data frame to hold the results\n",
    "\n",
    "\n",
    "* Optional: give the displayed data cleaner formatting\n",
    "\n",
    "\n",
    "* Display the summary data frame"
   ]
  },
  {
   "cell_type": "code",
   "execution_count": 208,
   "metadata": {},
   "outputs": [
    {
     "data": {
      "text/html": [
       "<style  type=\"text/css\" >\n",
       "</style><table id=\"T_234d2152_f445_11e9_988f_534e57000000\" ><thead>    <tr>        <th class=\"blank level0\" ></th>        <th class=\"col_heading level0 col0\" >Purchase Count</th>        <th class=\"col_heading level0 col1\" >Average Purchase Price</th>        <th class=\"col_heading level0 col2\" >Total Purchase Value</th>        <th class=\"col_heading level0 col3\" >Avg Total Purchase per Person</th>    </tr>    <tr>        <th class=\"index_name level0\" >Age Group</th>        <th class=\"blank\" ></th>        <th class=\"blank\" ></th>        <th class=\"blank\" ></th>        <th class=\"blank\" ></th>    </tr></thead><tbody>\n",
       "                <tr>\n",
       "                        <th id=\"T_234d2152_f445_11e9_988f_534e57000000level0_row0\" class=\"row_heading level0 row0\" >>10</th>\n",
       "                        <td id=\"T_234d2152_f445_11e9_988f_534e57000000row0_col0\" class=\"data row0 col0\" >23</td>\n",
       "                        <td id=\"T_234d2152_f445_11e9_988f_534e57000000row0_col1\" class=\"data row0 col1\" >$3.35</td>\n",
       "                        <td id=\"T_234d2152_f445_11e9_988f_534e57000000row0_col2\" class=\"data row0 col2\" >$77.13</td>\n",
       "                        <td id=\"T_234d2152_f445_11e9_988f_534e57000000row0_col3\" class=\"data row0 col3\" >$3.67</td>\n",
       "            </tr>\n",
       "            <tr>\n",
       "                        <th id=\"T_234d2152_f445_11e9_988f_534e57000000level0_row1\" class=\"row_heading level0 row1\" >10-14</th>\n",
       "                        <td id=\"T_234d2152_f445_11e9_988f_534e57000000row1_col0\" class=\"data row1 col0\" >28</td>\n",
       "                        <td id=\"T_234d2152_f445_11e9_988f_534e57000000row1_col1\" class=\"data row1 col1\" >$2.96</td>\n",
       "                        <td id=\"T_234d2152_f445_11e9_988f_534e57000000row1_col2\" class=\"data row1 col2\" >$82.78</td>\n",
       "                        <td id=\"T_234d2152_f445_11e9_988f_534e57000000row1_col3\" class=\"data row1 col3\" >$3.45</td>\n",
       "            </tr>\n",
       "            <tr>\n",
       "                        <th id=\"T_234d2152_f445_11e9_988f_534e57000000level0_row2\" class=\"row_heading level0 row2\" >15-19</th>\n",
       "                        <td id=\"T_234d2152_f445_11e9_988f_534e57000000row2_col0\" class=\"data row2 col0\" >136</td>\n",
       "                        <td id=\"T_234d2152_f445_11e9_988f_534e57000000row2_col1\" class=\"data row2 col1\" >$3.04</td>\n",
       "                        <td id=\"T_234d2152_f445_11e9_988f_534e57000000row2_col2\" class=\"data row2 col2\" >$412.89</td>\n",
       "                        <td id=\"T_234d2152_f445_11e9_988f_534e57000000row2_col3\" class=\"data row2 col3\" >$4.97</td>\n",
       "            </tr>\n",
       "            <tr>\n",
       "                        <th id=\"T_234d2152_f445_11e9_988f_534e57000000level0_row3\" class=\"row_heading level0 row3\" >20-24</th>\n",
       "                        <td id=\"T_234d2152_f445_11e9_988f_534e57000000row3_col0\" class=\"data row3 col0\" >365</td>\n",
       "                        <td id=\"T_234d2152_f445_11e9_988f_534e57000000row3_col1\" class=\"data row3 col1\" >$3.05</td>\n",
       "                        <td id=\"T_234d2152_f445_11e9_988f_534e57000000row3_col2\" class=\"data row3 col2\" >$1,114.06</td>\n",
       "                        <td id=\"T_234d2152_f445_11e9_988f_534e57000000row3_col3\" class=\"data row3 col3\" >$8.25</td>\n",
       "            </tr>\n",
       "            <tr>\n",
       "                        <th id=\"T_234d2152_f445_11e9_988f_534e57000000level0_row4\" class=\"row_heading level0 row4\" >25-29</th>\n",
       "                        <td id=\"T_234d2152_f445_11e9_988f_534e57000000row4_col0\" class=\"data row4 col0\" >101</td>\n",
       "                        <td id=\"T_234d2152_f445_11e9_988f_534e57000000row4_col1\" class=\"data row4 col1\" >$2.90</td>\n",
       "                        <td id=\"T_234d2152_f445_11e9_988f_534e57000000row4_col2\" class=\"data row4 col2\" >$293.00</td>\n",
       "                        <td id=\"T_234d2152_f445_11e9_988f_534e57000000row4_col3\" class=\"data row4 col3\" >$4.01</td>\n",
       "            </tr>\n",
       "            <tr>\n",
       "                        <th id=\"T_234d2152_f445_11e9_988f_534e57000000level0_row5\" class=\"row_heading level0 row5\" >30-34</th>\n",
       "                        <td id=\"T_234d2152_f445_11e9_988f_534e57000000row5_col0\" class=\"data row5 col0\" >73</td>\n",
       "                        <td id=\"T_234d2152_f445_11e9_988f_534e57000000row5_col1\" class=\"data row5 col1\" >$2.93</td>\n",
       "                        <td id=\"T_234d2152_f445_11e9_988f_534e57000000row5_col2\" class=\"data row5 col2\" >$214.00</td>\n",
       "                        <td id=\"T_234d2152_f445_11e9_988f_534e57000000row5_col3\" class=\"data row5 col3\" >$3.82</td>\n",
       "            </tr>\n",
       "            <tr>\n",
       "                        <th id=\"T_234d2152_f445_11e9_988f_534e57000000level0_row6\" class=\"row_heading level0 row6\" >35-39</th>\n",
       "                        <td id=\"T_234d2152_f445_11e9_988f_534e57000000row6_col0\" class=\"data row6 col0\" >41</td>\n",
       "                        <td id=\"T_234d2152_f445_11e9_988f_534e57000000row6_col1\" class=\"data row6 col1\" >$3.60</td>\n",
       "                        <td id=\"T_234d2152_f445_11e9_988f_534e57000000row6_col2\" class=\"data row6 col2\" >$147.67</td>\n",
       "                        <td id=\"T_234d2152_f445_11e9_988f_534e57000000row6_col3\" class=\"data row6 col3\" >$4.34</td>\n",
       "            </tr>\n",
       "            <tr>\n",
       "                        <th id=\"T_234d2152_f445_11e9_988f_534e57000000level0_row7\" class=\"row_heading level0 row7\" >40+</th>\n",
       "                        <td id=\"T_234d2152_f445_11e9_988f_534e57000000row7_col0\" class=\"data row7 col0\" >13</td>\n",
       "                        <td id=\"T_234d2152_f445_11e9_988f_534e57000000row7_col1\" class=\"data row7 col1\" >$2.94</td>\n",
       "                        <td id=\"T_234d2152_f445_11e9_988f_534e57000000row7_col2\" class=\"data row7 col2\" >$38.24</td>\n",
       "                        <td id=\"T_234d2152_f445_11e9_988f_534e57000000row7_col3\" class=\"data row7 col3\" >$2.94</td>\n",
       "            </tr>\n",
       "    </tbody></table>"
      ],
      "text/plain": [
       "<pandas.io.formats.style.Styler at 0x29650fd4c18>"
      ]
     },
     "execution_count": 208,
     "metadata": {},
     "output_type": "execute_result"
    }
   ],
   "source": [
    "#calculate the purchase analysis\n",
    "purchase_age_count = age_range.count()[\"Purchase ID\"]\n",
    "average_purchase_count = age_range.mean()[\"Price\"]\n",
    "purchase_count_unique = age_range.nunique()[\"Price\"]\n",
    "total_purchase_value = age_range.sum()[\"Price\"]\n",
    "\n",
    "avg_total_per = total_purchase_value/purchase_count_unique\n",
    "\n",
    "#create the dataframe\n",
    "purchasing_analysis = pd.DataFrame({\n",
    "    \"Purchase Count\":purchase_age_count,\n",
    "    \"Average Purchase Price\":average_purchase_count,\n",
    "    \"Total Purchase Value\":total_purchase_value,\n",
    "    \"Avg Total Purchase per Person\":avg_total_per})\n",
    "\n",
    "#print the dataframe\n",
    "purchasing_analysis.style.format({\n",
    "    \"Average Purchase Price\":\"${:,.2f}\",\n",
    "    \"Total Purchase Value\":\"${:,.2f}\",\n",
    "    \"Avg Total Purchase per Person\":\"${:,.2f}\"})"
   ]
  },
  {
   "cell_type": "markdown",
   "metadata": {},
   "source": [
    "## Top Spenders"
   ]
  },
  {
   "cell_type": "markdown",
   "metadata": {},
   "source": [
    "* Run basic calculations to obtain the results in the table below\n",
    "\n",
    "\n",
    "* Create a summary data frame to hold the results\n",
    "\n",
    "\n",
    "* Sort the total purchase value column in descending order\n",
    "\n",
    "\n",
    "* Optional: give the displayed data cleaner formatting\n",
    "\n",
    "\n",
    "* Display a preview of the summary data frame\n",
    "\n"
   ]
  },
  {
   "cell_type": "code",
   "execution_count": 209,
   "metadata": {},
   "outputs": [
    {
     "data": {
      "text/html": [
       "<div>\n",
       "<style scoped>\n",
       "    .dataframe tbody tr th:only-of-type {\n",
       "        vertical-align: middle;\n",
       "    }\n",
       "\n",
       "    .dataframe tbody tr th {\n",
       "        vertical-align: top;\n",
       "    }\n",
       "\n",
       "    .dataframe thead th {\n",
       "        text-align: right;\n",
       "    }\n",
       "</style>\n",
       "<table border=\"1\" class=\"dataframe\">\n",
       "  <thead>\n",
       "    <tr style=\"text-align: right;\">\n",
       "      <th></th>\n",
       "      <th>Purchase Count</th>\n",
       "      <th>Average Purchase Price</th>\n",
       "      <th>Total Purchase Value</th>\n",
       "    </tr>\n",
       "    <tr>\n",
       "      <th>User</th>\n",
       "      <th></th>\n",
       "      <th></th>\n",
       "      <th></th>\n",
       "    </tr>\n",
       "  </thead>\n",
       "  <tbody>\n",
       "    <tr>\n",
       "      <th>Lisosia93</th>\n",
       "      <td>5</td>\n",
       "      <td>3.792000</td>\n",
       "      <td>18.96</td>\n",
       "    </tr>\n",
       "    <tr>\n",
       "      <th>Idastidru52</th>\n",
       "      <td>4</td>\n",
       "      <td>3.862500</td>\n",
       "      <td>15.45</td>\n",
       "    </tr>\n",
       "    <tr>\n",
       "      <th>Chamjask73</th>\n",
       "      <td>3</td>\n",
       "      <td>4.610000</td>\n",
       "      <td>13.83</td>\n",
       "    </tr>\n",
       "    <tr>\n",
       "      <th>Iral74</th>\n",
       "      <td>4</td>\n",
       "      <td>3.405000</td>\n",
       "      <td>13.62</td>\n",
       "    </tr>\n",
       "    <tr>\n",
       "      <th>Iskadarya95</th>\n",
       "      <td>3</td>\n",
       "      <td>4.366667</td>\n",
       "      <td>13.10</td>\n",
       "    </tr>\n",
       "  </tbody>\n",
       "</table>\n",
       "</div>"
      ],
      "text/plain": [
       "             Purchase Count  Average Purchase Price  Total Purchase Value\n",
       "User                                                                     \n",
       "Lisosia93                 5                3.792000                 18.96\n",
       "Idastidru52               4                3.862500                 15.45\n",
       "Chamjask73                3                4.610000                 13.83\n",
       "Iral74                    4                3.405000                 13.62\n",
       "Iskadarya95               3                4.366667                 13.10"
      ]
     },
     "execution_count": 209,
     "metadata": {},
     "output_type": "execute_result"
    }
   ],
   "source": [
    "#group by user\n",
    "user = purchase_data.groupby(\"SN\")\n",
    "\n",
    "#calculate the data\n",
    "TP_Purchase_Count = user.count()[\"Price\"]\n",
    "TP_Average_Purchase_Price = user.mean()[\"Price\"]\n",
    "TP_Total_Purchase_Value = user.sum()[\"Price\"]\n",
    "\n",
    "#create the dataframe\n",
    "top_spenders_pd = pd.DataFrame({\n",
    "    \"Purchase Count\" : TP_Purchase_Count,\n",
    "    \"Average Purchase Price\" : TP_Average_Purchase_Price,\n",
    "    \"Total Purchase Value\" : TP_Total_Purchase_Value})\n",
    "\n",
    "top_spenders_pd.index.name = 'User'\n",
    "\n",
    "#print the dataframe\n",
    "top_spenders_pd.sort_values(by=['Total Purchase Value'], ascending = False).head()"
   ]
  },
  {
   "cell_type": "markdown",
   "metadata": {},
   "source": [
    "## Most Popular Items"
   ]
  },
  {
   "cell_type": "markdown",
   "metadata": {},
   "source": [
    "* Retrieve the Item ID, Item Name, and Item Price columns\n",
    "\n",
    "\n",
    "* Group by Item ID and Item Name. Perform calculations to obtain purchase count, item price, and total purchase value\n",
    "\n",
    "\n",
    "* Create a summary data frame to hold the results\n",
    "\n",
    "\n",
    "* Sort the purchase count column in descending order\n",
    "\n",
    "\n",
    "* Optional: give the displayed data cleaner formatting\n",
    "\n",
    "\n",
    "* Display a preview of the summary data frame\n",
    "\n"
   ]
  },
  {
   "cell_type": "code",
   "execution_count": 210,
   "metadata": {},
   "outputs": [
    {
     "data": {
      "text/html": [
       "<div>\n",
       "<style scoped>\n",
       "    .dataframe tbody tr th:only-of-type {\n",
       "        vertical-align: middle;\n",
       "    }\n",
       "\n",
       "    .dataframe tbody tr th {\n",
       "        vertical-align: top;\n",
       "    }\n",
       "\n",
       "    .dataframe thead th {\n",
       "        text-align: right;\n",
       "    }\n",
       "</style>\n",
       "<table border=\"1\" class=\"dataframe\">\n",
       "  <thead>\n",
       "    <tr style=\"text-align: right;\">\n",
       "      <th></th>\n",
       "      <th></th>\n",
       "      <th>Purchase Count</th>\n",
       "      <th>Item Price</th>\n",
       "      <th>Total Purchase Value</th>\n",
       "    </tr>\n",
       "    <tr>\n",
       "      <th>Item ID</th>\n",
       "      <th>Item Name</th>\n",
       "      <th></th>\n",
       "      <th></th>\n",
       "      <th></th>\n",
       "    </tr>\n",
       "  </thead>\n",
       "  <tbody>\n",
       "    <tr>\n",
       "      <th>178</th>\n",
       "      <th>Oathbreaker, Last Hope of the Breaking Storm</th>\n",
       "      <td>12</td>\n",
       "      <td>4.23</td>\n",
       "      <td>50.76</td>\n",
       "    </tr>\n",
       "    <tr>\n",
       "      <th>145</th>\n",
       "      <th>Fiery Glass Crusader</th>\n",
       "      <td>9</td>\n",
       "      <td>4.58</td>\n",
       "      <td>41.22</td>\n",
       "    </tr>\n",
       "    <tr>\n",
       "      <th>108</th>\n",
       "      <th>Extraction, Quickblade Of Trembling Hands</th>\n",
       "      <td>9</td>\n",
       "      <td>3.53</td>\n",
       "      <td>31.77</td>\n",
       "    </tr>\n",
       "    <tr>\n",
       "      <th>82</th>\n",
       "      <th>Nirvana</th>\n",
       "      <td>9</td>\n",
       "      <td>4.90</td>\n",
       "      <td>44.10</td>\n",
       "    </tr>\n",
       "    <tr>\n",
       "      <th>19</th>\n",
       "      <th>Pursuit, Cudgel of Necromancy</th>\n",
       "      <td>8</td>\n",
       "      <td>1.02</td>\n",
       "      <td>8.16</td>\n",
       "    </tr>\n",
       "  </tbody>\n",
       "</table>\n",
       "</div>"
      ],
      "text/plain": [
       "                                                      Purchase Count  \\\n",
       "Item ID Item Name                                                      \n",
       "178     Oathbreaker, Last Hope of the Breaking Storm              12   \n",
       "145     Fiery Glass Crusader                                       9   \n",
       "108     Extraction, Quickblade Of Trembling Hands                  9   \n",
       "82      Nirvana                                                    9   \n",
       "19      Pursuit, Cudgel of Necromancy                              8   \n",
       "\n",
       "                                                      Item Price  \\\n",
       "Item ID Item Name                                                  \n",
       "178     Oathbreaker, Last Hope of the Breaking Storm        4.23   \n",
       "145     Fiery Glass Crusader                                4.58   \n",
       "108     Extraction, Quickblade Of Trembling Hands           3.53   \n",
       "82      Nirvana                                             4.90   \n",
       "19      Pursuit, Cudgel of Necromancy                       1.02   \n",
       "\n",
       "                                                      Total Purchase Value  \n",
       "Item ID Item Name                                                           \n",
       "178     Oathbreaker, Last Hope of the Breaking Storm                 50.76  \n",
       "145     Fiery Glass Crusader                                         41.22  \n",
       "108     Extraction, Quickblade Of Trembling Hands                    31.77  \n",
       "82      Nirvana                                                      44.10  \n",
       "19      Pursuit, Cudgel of Necromancy                                 8.16  "
      ]
     },
     "execution_count": 210,
     "metadata": {},
     "output_type": "execute_result"
    }
   ],
   "source": [
    "#group by item\n",
    "item = purchase_data.groupby([\"Item ID\", \"Item Name\"])\n",
    "\n",
    "#calculte the data\n",
    "PI_Purchase_Count = item.count()[\"Price\"]\n",
    "PI_Item_Price = item.mean()[\"Price\"]\n",
    "PI_Total_Purchase_Value = item.sum()[\"Price\"]\n",
    "\n",
    "#create the dateframe\n",
    "popular_items_pd = pd.DataFrame({\n",
    "    \"Purchase Count\" : PI_Purchase_Count,\n",
    "    \"Item Price\" : PI_Item_Price,\n",
    "    \"Total Purchase Value\" : PI_Total_Purchase_Value})\n",
    "\n",
    "popular_items_pd.index.name = [\"Item ID\", \"Item Name\"]\n",
    "\n",
    "#print the dataframe\n",
    "popular_items_pd.sort_values(by=['Purchase Count'], ascending = False).head()"
   ]
  },
  {
   "cell_type": "markdown",
   "metadata": {},
   "source": [
    "## Most Profitable Items"
   ]
  },
  {
   "cell_type": "markdown",
   "metadata": {},
   "source": [
    "* Sort the above table by total purchase value in descending order\n",
    "\n",
    "\n",
    "* Optional: give the displayed data cleaner formatting\n",
    "\n",
    "\n",
    "* Display a preview of the data frame\n",
    "\n"
   ]
  },
  {
   "cell_type": "code",
   "execution_count": 211,
   "metadata": {
    "scrolled": true
   },
   "outputs": [
    {
     "data": {
      "text/html": [
       "<div>\n",
       "<style scoped>\n",
       "    .dataframe tbody tr th:only-of-type {\n",
       "        vertical-align: middle;\n",
       "    }\n",
       "\n",
       "    .dataframe tbody tr th {\n",
       "        vertical-align: top;\n",
       "    }\n",
       "\n",
       "    .dataframe thead th {\n",
       "        text-align: right;\n",
       "    }\n",
       "</style>\n",
       "<table border=\"1\" class=\"dataframe\">\n",
       "  <thead>\n",
       "    <tr style=\"text-align: right;\">\n",
       "      <th></th>\n",
       "      <th></th>\n",
       "      <th>Purchase Count</th>\n",
       "      <th>Item Price</th>\n",
       "      <th>Total Purchase Value</th>\n",
       "    </tr>\n",
       "    <tr>\n",
       "      <th>Item ID</th>\n",
       "      <th>Item Name</th>\n",
       "      <th></th>\n",
       "      <th></th>\n",
       "      <th></th>\n",
       "    </tr>\n",
       "  </thead>\n",
       "  <tbody>\n",
       "    <tr>\n",
       "      <th>178</th>\n",
       "      <th>Oathbreaker, Last Hope of the Breaking Storm</th>\n",
       "      <td>12</td>\n",
       "      <td>4.23</td>\n",
       "      <td>50.76</td>\n",
       "    </tr>\n",
       "    <tr>\n",
       "      <th>82</th>\n",
       "      <th>Nirvana</th>\n",
       "      <td>9</td>\n",
       "      <td>4.90</td>\n",
       "      <td>44.10</td>\n",
       "    </tr>\n",
       "    <tr>\n",
       "      <th>145</th>\n",
       "      <th>Fiery Glass Crusader</th>\n",
       "      <td>9</td>\n",
       "      <td>4.58</td>\n",
       "      <td>41.22</td>\n",
       "    </tr>\n",
       "    <tr>\n",
       "      <th>92</th>\n",
       "      <th>Final Critic</th>\n",
       "      <td>8</td>\n",
       "      <td>4.88</td>\n",
       "      <td>39.04</td>\n",
       "    </tr>\n",
       "    <tr>\n",
       "      <th>103</th>\n",
       "      <th>Singed Scalpel</th>\n",
       "      <td>8</td>\n",
       "      <td>4.35</td>\n",
       "      <td>34.80</td>\n",
       "    </tr>\n",
       "  </tbody>\n",
       "</table>\n",
       "</div>"
      ],
      "text/plain": [
       "                                                      Purchase Count  \\\n",
       "Item ID Item Name                                                      \n",
       "178     Oathbreaker, Last Hope of the Breaking Storm              12   \n",
       "82      Nirvana                                                    9   \n",
       "145     Fiery Glass Crusader                                       9   \n",
       "92      Final Critic                                               8   \n",
       "103     Singed Scalpel                                             8   \n",
       "\n",
       "                                                      Item Price  \\\n",
       "Item ID Item Name                                                  \n",
       "178     Oathbreaker, Last Hope of the Breaking Storm        4.23   \n",
       "82      Nirvana                                             4.90   \n",
       "145     Fiery Glass Crusader                                4.58   \n",
       "92      Final Critic                                        4.88   \n",
       "103     Singed Scalpel                                      4.35   \n",
       "\n",
       "                                                      Total Purchase Value  \n",
       "Item ID Item Name                                                           \n",
       "178     Oathbreaker, Last Hope of the Breaking Storm                 50.76  \n",
       "82      Nirvana                                                      44.10  \n",
       "145     Fiery Glass Crusader                                         41.22  \n",
       "92      Final Critic                                                 39.04  \n",
       "103     Singed Scalpel                                               34.80  "
      ]
     },
     "execution_count": 211,
     "metadata": {},
     "output_type": "execute_result"
    }
   ],
   "source": [
    "#use previous dataframe to sort by ascending\n",
    "popular_items_pd.sort_values(by=['Total Purchase Value'], ascending = False).head()"
   ]
  }
 ],
 "metadata": {
  "anaconda-cloud": {},
  "kernel_info": {
   "name": "python3"
  },
  "kernelspec": {
   "display_name": "Python 3",
   "language": "python",
   "name": "python3"
  },
  "language_info": {
   "codemirror_mode": {
    "name": "ipython",
    "version": 3
   },
   "file_extension": ".py",
   "mimetype": "text/x-python",
   "name": "python",
   "nbconvert_exporter": "python",
   "pygments_lexer": "ipython3",
   "version": "3.7.3"
  },
  "latex_envs": {
   "LaTeX_envs_menu_present": true,
   "autoclose": false,
   "autocomplete": true,
   "bibliofile": "biblio.bib",
   "cite_by": "apalike",
   "current_citInitial": 1,
   "eqLabelWithNumbers": true,
   "eqNumInitial": 1,
   "hotkeys": {
    "equation": "Ctrl-E",
    "itemize": "Ctrl-I"
   },
   "labels_anchors": false,
   "latex_user_defs": false,
   "report_style_numbering": false,
   "user_envs_cfg": false
  },
  "nteract": {
   "version": "0.2.0"
  }
 },
 "nbformat": 4,
 "nbformat_minor": 2
}
